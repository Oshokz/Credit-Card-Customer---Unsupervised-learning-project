{
 "cells": [
  {
   "cell_type": "markdown",
   "id": "6793807d",
   "metadata": {},
   "source": [
    "## Objectives\n",
    "To identify different segments in the existing customer, based on their spending patterns as well as past interaction with the bank, using clustering algorithms, and provide recommendations to the bank on how to better market to and service these customers."
   ]
  },
  {
   "cell_type": "markdown",
   "id": "3e576b61",
   "metadata": {},
   "source": [
    "## Import important packages"
   ]
  },
  {
   "cell_type": "code",
   "execution_count": 121,
   "id": "46c760c5",
   "metadata": {},
   "outputs": [],
   "source": [
    "import pandas as pd\n",
    "#Pandas is used for data manipulation and analysis.\n",
    "from sklearn.preprocessing import StandardScaler\n",
    "# Scaling is used in all unsupervised models\n",
    "import numpy as np\n",
    "# NumPy is a library for numerical computing in Python.\n",
    "import matplotlib.pyplot as plt\n",
    "import seaborn as sns\n",
    "# Seaborn is a library for creating informative and attractive statistical graphics in Python.\n",
    "from sklearn.cluster import KMeans\n",
    "# KMeans is an algorithm for clustering data points into a pre-specified number of clusters based on their similarities.\n",
    "from sklearn.cluster import DBSCAN\n",
    "# DBSCAN groups together points that are close to each other in a high-density region\n",
    "# while marking out noise points in low-density regions"
   ]
  },
  {
   "cell_type": "markdown",
   "id": "022cb8ad",
   "metadata": {},
   "source": [
    "## Load and explore the data"
   ]
  },
  {
   "cell_type": "code",
   "execution_count": 122,
   "id": "6c77fe0a",
   "metadata": {},
   "outputs": [
    {
     "data": {
      "text/html": [
       "<div>\n",
       "<style scoped>\n",
       "    .dataframe tbody tr th:only-of-type {\n",
       "        vertical-align: middle;\n",
       "    }\n",
       "\n",
       "    .dataframe tbody tr th {\n",
       "        vertical-align: top;\n",
       "    }\n",
       "\n",
       "    .dataframe thead th {\n",
       "        text-align: right;\n",
       "    }\n",
       "</style>\n",
       "<table border=\"1\" class=\"dataframe\">\n",
       "  <thead>\n",
       "    <tr style=\"text-align: right;\">\n",
       "      <th></th>\n",
       "      <th>Sl_No</th>\n",
       "      <th>Customer Key</th>\n",
       "      <th>Avg_Credit_Limit</th>\n",
       "      <th>Total_Credit_Cards</th>\n",
       "      <th>Total_visits_bank</th>\n",
       "      <th>Total_visits_online</th>\n",
       "      <th>Total_calls_made</th>\n",
       "    </tr>\n",
       "  </thead>\n",
       "  <tbody>\n",
       "    <tr>\n",
       "      <th>0</th>\n",
       "      <td>1</td>\n",
       "      <td>87073</td>\n",
       "      <td>100000</td>\n",
       "      <td>2</td>\n",
       "      <td>1</td>\n",
       "      <td>1</td>\n",
       "      <td>0</td>\n",
       "    </tr>\n",
       "    <tr>\n",
       "      <th>1</th>\n",
       "      <td>2</td>\n",
       "      <td>38414</td>\n",
       "      <td>50000</td>\n",
       "      <td>3</td>\n",
       "      <td>0</td>\n",
       "      <td>10</td>\n",
       "      <td>9</td>\n",
       "    </tr>\n",
       "    <tr>\n",
       "      <th>2</th>\n",
       "      <td>3</td>\n",
       "      <td>17341</td>\n",
       "      <td>50000</td>\n",
       "      <td>7</td>\n",
       "      <td>1</td>\n",
       "      <td>3</td>\n",
       "      <td>4</td>\n",
       "    </tr>\n",
       "    <tr>\n",
       "      <th>3</th>\n",
       "      <td>4</td>\n",
       "      <td>40496</td>\n",
       "      <td>30000</td>\n",
       "      <td>5</td>\n",
       "      <td>1</td>\n",
       "      <td>1</td>\n",
       "      <td>4</td>\n",
       "    </tr>\n",
       "    <tr>\n",
       "      <th>4</th>\n",
       "      <td>5</td>\n",
       "      <td>47437</td>\n",
       "      <td>100000</td>\n",
       "      <td>6</td>\n",
       "      <td>0</td>\n",
       "      <td>12</td>\n",
       "      <td>3</td>\n",
       "    </tr>\n",
       "  </tbody>\n",
       "</table>\n",
       "</div>"
      ],
      "text/plain": [
       "   Sl_No  Customer Key  Avg_Credit_Limit  Total_Credit_Cards  \\\n",
       "0      1         87073            100000                   2   \n",
       "1      2         38414             50000                   3   \n",
       "2      3         17341             50000                   7   \n",
       "3      4         40496             30000                   5   \n",
       "4      5         47437            100000                   6   \n",
       "\n",
       "   Total_visits_bank  Total_visits_online  Total_calls_made  \n",
       "0                  1                    1                 0  \n",
       "1                  0                   10                 9  \n",
       "2                  1                    3                 4  \n",
       "3                  1                    1                 4  \n",
       "4                  0                   12                 3  "
      ]
     },
     "execution_count": 122,
     "metadata": {},
     "output_type": "execute_result"
    }
   ],
   "source": [
    "path = \"Credit+Card+Customer+Data.xlsx\"\n",
    "data = pd.read_excel(path)\n",
    "data.head()"
   ]
  },
  {
   "cell_type": "markdown",
   "id": "239a6a13",
   "metadata": {},
   "source": [
    "The data consists of the following columns\n",
    "- Sl_No: Primary key of the records\n",
    "- Customer Key: Customer identification number\n",
    "- Average Credit Limit: Average credit limit of each customer for all credit cards\n",
    "- Total credit cards: Total number of credit cards possessed by the customer\n",
    "- Total visits bank: Total number of visits that customer made (yearly) personally to the bank\n",
    "- Total visits online: Total number of visits or online logins made by the customer (yearly)\n",
    "- Total calls made: Total number of calls made by the customer to the bank or its customer service department (yearly)"
   ]
  },
  {
   "cell_type": "code",
   "execution_count": 123,
   "id": "08200456",
   "metadata": {},
   "outputs": [
    {
     "data": {
      "text/plain": [
       "(660, 7)"
      ]
     },
     "execution_count": 123,
     "metadata": {},
     "output_type": "execute_result"
    }
   ],
   "source": [
    "data.shape"
   ]
  },
  {
   "cell_type": "markdown",
   "id": "62955b07",
   "metadata": {},
   "source": [
    "- there are 660 rows and 7 columns in the data"
   ]
  },
  {
   "cell_type": "code",
   "execution_count": 124,
   "id": "0f7b5ee0",
   "metadata": {},
   "outputs": [
    {
     "name": "stdout",
     "output_type": "stream",
     "text": [
      "<class 'pandas.core.frame.DataFrame'>\n",
      "RangeIndex: 660 entries, 0 to 659\n",
      "Data columns (total 7 columns):\n",
      " #   Column               Non-Null Count  Dtype\n",
      "---  ------               --------------  -----\n",
      " 0   Sl_No                660 non-null    int64\n",
      " 1   Customer Key         660 non-null    int64\n",
      " 2   Avg_Credit_Limit     660 non-null    int64\n",
      " 3   Total_Credit_Cards   660 non-null    int64\n",
      " 4   Total_visits_bank    660 non-null    int64\n",
      " 5   Total_visits_online  660 non-null    int64\n",
      " 6   Total_calls_made     660 non-null    int64\n",
      "dtypes: int64(7)\n",
      "memory usage: 36.2 KB\n"
     ]
    }
   ],
   "source": [
    "data.info()"
   ]
  },
  {
   "cell_type": "code",
   "execution_count": 125,
   "id": "8a22c3e0",
   "metadata": {},
   "outputs": [
    {
     "data": {
      "text/plain": [
       "0"
      ]
     },
     "execution_count": 125,
     "metadata": {},
     "output_type": "execute_result"
    }
   ],
   "source": [
    "data.duplicated().sum()"
   ]
  },
  {
   "cell_type": "markdown",
   "id": "68857778",
   "metadata": {},
   "source": [
    "- no duplicates in the data"
   ]
  },
  {
   "cell_type": "code",
   "execution_count": 126,
   "id": "72356642",
   "metadata": {},
   "outputs": [
    {
     "data": {
      "text/html": [
       "<div>\n",
       "<style scoped>\n",
       "    .dataframe tbody tr th:only-of-type {\n",
       "        vertical-align: middle;\n",
       "    }\n",
       "\n",
       "    .dataframe tbody tr th {\n",
       "        vertical-align: top;\n",
       "    }\n",
       "\n",
       "    .dataframe thead th {\n",
       "        text-align: right;\n",
       "    }\n",
       "</style>\n",
       "<table border=\"1\" class=\"dataframe\">\n",
       "  <thead>\n",
       "    <tr style=\"text-align: right;\">\n",
       "      <th></th>\n",
       "      <th>count</th>\n",
       "      <th>mean</th>\n",
       "      <th>std</th>\n",
       "      <th>min</th>\n",
       "      <th>25%</th>\n",
       "      <th>50%</th>\n",
       "      <th>75%</th>\n",
       "      <th>max</th>\n",
       "    </tr>\n",
       "  </thead>\n",
       "  <tbody>\n",
       "    <tr>\n",
       "      <th>Sl_No</th>\n",
       "      <td>660.0</td>\n",
       "      <td>330.500000</td>\n",
       "      <td>190.669872</td>\n",
       "      <td>1.0</td>\n",
       "      <td>165.75</td>\n",
       "      <td>330.5</td>\n",
       "      <td>495.25</td>\n",
       "      <td>660.0</td>\n",
       "    </tr>\n",
       "    <tr>\n",
       "      <th>Customer Key</th>\n",
       "      <td>660.0</td>\n",
       "      <td>55141.443939</td>\n",
       "      <td>25627.772200</td>\n",
       "      <td>11265.0</td>\n",
       "      <td>33825.25</td>\n",
       "      <td>53874.5</td>\n",
       "      <td>77202.50</td>\n",
       "      <td>99843.0</td>\n",
       "    </tr>\n",
       "    <tr>\n",
       "      <th>Avg_Credit_Limit</th>\n",
       "      <td>660.0</td>\n",
       "      <td>34574.242424</td>\n",
       "      <td>37625.487804</td>\n",
       "      <td>3000.0</td>\n",
       "      <td>10000.00</td>\n",
       "      <td>18000.0</td>\n",
       "      <td>48000.00</td>\n",
       "      <td>200000.0</td>\n",
       "    </tr>\n",
       "    <tr>\n",
       "      <th>Total_Credit_Cards</th>\n",
       "      <td>660.0</td>\n",
       "      <td>4.706061</td>\n",
       "      <td>2.167835</td>\n",
       "      <td>1.0</td>\n",
       "      <td>3.00</td>\n",
       "      <td>5.0</td>\n",
       "      <td>6.00</td>\n",
       "      <td>10.0</td>\n",
       "    </tr>\n",
       "    <tr>\n",
       "      <th>Total_visits_bank</th>\n",
       "      <td>660.0</td>\n",
       "      <td>2.403030</td>\n",
       "      <td>1.631813</td>\n",
       "      <td>0.0</td>\n",
       "      <td>1.00</td>\n",
       "      <td>2.0</td>\n",
       "      <td>4.00</td>\n",
       "      <td>5.0</td>\n",
       "    </tr>\n",
       "    <tr>\n",
       "      <th>Total_visits_online</th>\n",
       "      <td>660.0</td>\n",
       "      <td>2.606061</td>\n",
       "      <td>2.935724</td>\n",
       "      <td>0.0</td>\n",
       "      <td>1.00</td>\n",
       "      <td>2.0</td>\n",
       "      <td>4.00</td>\n",
       "      <td>15.0</td>\n",
       "    </tr>\n",
       "    <tr>\n",
       "      <th>Total_calls_made</th>\n",
       "      <td>660.0</td>\n",
       "      <td>3.583333</td>\n",
       "      <td>2.865317</td>\n",
       "      <td>0.0</td>\n",
       "      <td>1.00</td>\n",
       "      <td>3.0</td>\n",
       "      <td>5.00</td>\n",
       "      <td>10.0</td>\n",
       "    </tr>\n",
       "  </tbody>\n",
       "</table>\n",
       "</div>"
      ],
      "text/plain": [
       "                     count          mean           std      min       25%  \\\n",
       "Sl_No                660.0    330.500000    190.669872      1.0    165.75   \n",
       "Customer Key         660.0  55141.443939  25627.772200  11265.0  33825.25   \n",
       "Avg_Credit_Limit     660.0  34574.242424  37625.487804   3000.0  10000.00   \n",
       "Total_Credit_Cards   660.0      4.706061      2.167835      1.0      3.00   \n",
       "Total_visits_bank    660.0      2.403030      1.631813      0.0      1.00   \n",
       "Total_visits_online  660.0      2.606061      2.935724      0.0      1.00   \n",
       "Total_calls_made     660.0      3.583333      2.865317      0.0      1.00   \n",
       "\n",
       "                         50%       75%       max  \n",
       "Sl_No                  330.5    495.25     660.0  \n",
       "Customer Key         53874.5  77202.50   99843.0  \n",
       "Avg_Credit_Limit     18000.0  48000.00  200000.0  \n",
       "Total_Credit_Cards       5.0      6.00      10.0  \n",
       "Total_visits_bank        2.0      4.00       5.0  \n",
       "Total_visits_online      2.0      4.00      15.0  \n",
       "Total_calls_made         3.0      5.00      10.0  "
      ]
     },
     "execution_count": 126,
     "metadata": {},
     "output_type": "execute_result"
    }
   ],
   "source": [
    "data.describe().T"
   ]
  },
  {
   "cell_type": "markdown",
   "id": "09e8d0dd",
   "metadata": {},
   "source": [
    "- the descriptive statistics doesn't look problematic"
   ]
  },
  {
   "cell_type": "markdown",
   "id": "502c861b",
   "metadata": {},
   "source": [
    "SI_No and Customer Key should be removed since they are not adding any information to the data. We can identify the correlation between the features to confirm this"
   ]
  },
  {
   "cell_type": "code",
   "execution_count": 127,
   "id": "7695d4e6",
   "metadata": {},
   "outputs": [
    {
     "data": {
      "text/html": [
       "<div>\n",
       "<style scoped>\n",
       "    .dataframe tbody tr th:only-of-type {\n",
       "        vertical-align: middle;\n",
       "    }\n",
       "\n",
       "    .dataframe tbody tr th {\n",
       "        vertical-align: top;\n",
       "    }\n",
       "\n",
       "    .dataframe thead th {\n",
       "        text-align: right;\n",
       "    }\n",
       "</style>\n",
       "<table border=\"1\" class=\"dataframe\">\n",
       "  <thead>\n",
       "    <tr style=\"text-align: right;\">\n",
       "      <th></th>\n",
       "      <th>Sl_No</th>\n",
       "      <th>Customer Key</th>\n",
       "      <th>Avg_Credit_Limit</th>\n",
       "      <th>Total_Credit_Cards</th>\n",
       "      <th>Total_visits_bank</th>\n",
       "      <th>Total_visits_online</th>\n",
       "      <th>Total_calls_made</th>\n",
       "    </tr>\n",
       "  </thead>\n",
       "  <tbody>\n",
       "    <tr>\n",
       "      <th>Sl_No</th>\n",
       "      <td>1.000000</td>\n",
       "      <td>0.052886</td>\n",
       "      <td>0.677962</td>\n",
       "      <td>0.739329</td>\n",
       "      <td>0.406438</td>\n",
       "      <td>0.033916</td>\n",
       "      <td>-0.684125</td>\n",
       "    </tr>\n",
       "    <tr>\n",
       "      <th>Customer Key</th>\n",
       "      <td>0.052886</td>\n",
       "      <td>1.000000</td>\n",
       "      <td>0.068604</td>\n",
       "      <td>-0.010281</td>\n",
       "      <td>-0.000560</td>\n",
       "      <td>0.022506</td>\n",
       "      <td>0.005968</td>\n",
       "    </tr>\n",
       "    <tr>\n",
       "      <th>Avg_Credit_Limit</th>\n",
       "      <td>0.677962</td>\n",
       "      <td>0.068604</td>\n",
       "      <td>1.000000</td>\n",
       "      <td>0.608860</td>\n",
       "      <td>-0.100312</td>\n",
       "      <td>0.551385</td>\n",
       "      <td>-0.414352</td>\n",
       "    </tr>\n",
       "    <tr>\n",
       "      <th>Total_Credit_Cards</th>\n",
       "      <td>0.739329</td>\n",
       "      <td>-0.010281</td>\n",
       "      <td>0.608860</td>\n",
       "      <td>1.000000</td>\n",
       "      <td>0.315796</td>\n",
       "      <td>0.167758</td>\n",
       "      <td>-0.651251</td>\n",
       "    </tr>\n",
       "    <tr>\n",
       "      <th>Total_visits_bank</th>\n",
       "      <td>0.406438</td>\n",
       "      <td>-0.000560</td>\n",
       "      <td>-0.100312</td>\n",
       "      <td>0.315796</td>\n",
       "      <td>1.000000</td>\n",
       "      <td>-0.551861</td>\n",
       "      <td>-0.506016</td>\n",
       "    </tr>\n",
       "    <tr>\n",
       "      <th>Total_visits_online</th>\n",
       "      <td>0.033916</td>\n",
       "      <td>0.022506</td>\n",
       "      <td>0.551385</td>\n",
       "      <td>0.167758</td>\n",
       "      <td>-0.551861</td>\n",
       "      <td>1.000000</td>\n",
       "      <td>0.127299</td>\n",
       "    </tr>\n",
       "    <tr>\n",
       "      <th>Total_calls_made</th>\n",
       "      <td>-0.684125</td>\n",
       "      <td>0.005968</td>\n",
       "      <td>-0.414352</td>\n",
       "      <td>-0.651251</td>\n",
       "      <td>-0.506016</td>\n",
       "      <td>0.127299</td>\n",
       "      <td>1.000000</td>\n",
       "    </tr>\n",
       "  </tbody>\n",
       "</table>\n",
       "</div>"
      ],
      "text/plain": [
       "                        Sl_No  Customer Key  Avg_Credit_Limit  \\\n",
       "Sl_No                1.000000      0.052886          0.677962   \n",
       "Customer Key         0.052886      1.000000          0.068604   \n",
       "Avg_Credit_Limit     0.677962      0.068604          1.000000   \n",
       "Total_Credit_Cards   0.739329     -0.010281          0.608860   \n",
       "Total_visits_bank    0.406438     -0.000560         -0.100312   \n",
       "Total_visits_online  0.033916      0.022506          0.551385   \n",
       "Total_calls_made    -0.684125      0.005968         -0.414352   \n",
       "\n",
       "                     Total_Credit_Cards  Total_visits_bank  \\\n",
       "Sl_No                          0.739329           0.406438   \n",
       "Customer Key                  -0.010281          -0.000560   \n",
       "Avg_Credit_Limit               0.608860          -0.100312   \n",
       "Total_Credit_Cards             1.000000           0.315796   \n",
       "Total_visits_bank              0.315796           1.000000   \n",
       "Total_visits_online            0.167758          -0.551861   \n",
       "Total_calls_made              -0.651251          -0.506016   \n",
       "\n",
       "                     Total_visits_online  Total_calls_made  \n",
       "Sl_No                           0.033916         -0.684125  \n",
       "Customer Key                    0.022506          0.005968  \n",
       "Avg_Credit_Limit                0.551385         -0.414352  \n",
       "Total_Credit_Cards              0.167758         -0.651251  \n",
       "Total_visits_bank              -0.551861         -0.506016  \n",
       "Total_visits_online             1.000000          0.127299  \n",
       "Total_calls_made                0.127299          1.000000  "
      ]
     },
     "execution_count": 127,
     "metadata": {},
     "output_type": "execute_result"
    }
   ],
   "source": [
    "mat_corr = data.corr()\n",
    "mat_corr"
   ]
  },
  {
   "cell_type": "code",
   "execution_count": 128,
   "id": "debc6c4f",
   "metadata": {},
   "outputs": [
    {
     "data": {
      "text/plain": [
       "<AxesSubplot:>"
      ]
     },
     "execution_count": 128,
     "metadata": {},
     "output_type": "execute_result"
    },
    {
     "data": {
      "image/png": "[encoded data removed]",
      "text/plain": [
       "<Figure size 720x504 with 2 Axes>"
      ]
     },
     "metadata": {
      "needs_background": "light"
     },
     "output_type": "display_data"
    }
   ],
   "source": [
    "import seaborn as sns\n",
    "plt.figure(figsize = (10,7))\n",
    "sns.heatmap(mat_corr, annot= True, vmin = -1, vmax = 1, cmap =\"Spectral\")"
   ]
  },
  {
   "cell_type": "markdown",
   "id": "04f5ac61",
   "metadata": {},
   "source": [
    "- customer key is the only feature with no relevant information on the data. the column should be removed"
   ]
  },
  {
   "cell_type": "markdown",
   "id": "1b5b32a8",
   "metadata": {},
   "source": [
    "## Data visualization\n",
    "\n",
    "### Univariate analysis"
   ]
  },
  {
   "cell_type": "code",
   "execution_count": 129,
   "id": "ac836738",
   "metadata": {},
   "outputs": [
    {
     "data": {
      "text/plain": [
       "['Sl_No',\n",
       " 'Customer Key',\n",
       " 'Avg_Credit_Limit',\n",
       " 'Total_Credit_Cards',\n",
       " 'Total_visits_bank',\n",
       " 'Total_visits_online',\n",
       " 'Total_calls_made']"
      ]
     },
     "execution_count": 129,
     "metadata": {},
     "output_type": "execute_result"
    }
   ],
   "source": [
    "list(data)"
   ]
  },
  {
   "cell_type": "code",
   "execution_count": 130,
   "id": "ebcc8686",
   "metadata": {},
   "outputs": [
    {
     "data": {
      "text/plain": [
       "<function matplotlib.pyplot.tight_layout(*, pad=1.08, h_pad=None, w_pad=None, rect=None)>"
      ]
     },
     "execution_count": 130,
     "metadata": {},
     "output_type": "execute_result"
    },
    {
     "data": {
      "image/png": "[encoded data removed]",
      "text/plain": [
       "<Figure size 864x2160 with 28 Axes>"
      ]
     },
     "metadata": {
      "needs_background": "light"
     },
     "output_type": "display_data"
    }
   ],
   "source": [
    "columns = list(data)\n",
    "data[columns].hist(stacked = False, bins = 100, figsize = (12,30),\n",
    "                 layout = (14,2) )\n",
    "plt.tight_layout# to prevent title from overlapping;"
   ]
  },
  {
   "cell_type": "markdown",
   "id": "5f9b9158",
   "metadata": {},
   "source": [
    "- average credit limit and total visits online are right skewed\n",
    "- other columns are normally distributed"
   ]
  },
  {
   "cell_type": "markdown",
   "id": "7c5f30ab",
   "metadata": {},
   "source": [
    "### Multivariate analysis"
   ]
  },
  {
   "cell_type": "code",
   "execution_count": 131,
   "id": "8f43f89d",
   "metadata": {},
   "outputs": [
    {
     "data": {
      "text/plain": [
       "['Sl_No',\n",
       " 'Customer Key',\n",
       " 'Avg_Credit_Limit',\n",
       " 'Total_Credit_Cards',\n",
       " 'Total_visits_bank',\n",
       " 'Total_visits_online',\n",
       " 'Total_calls_made']"
      ]
     },
     "execution_count": 131,
     "metadata": {},
     "output_type": "execute_result"
    }
   ],
   "source": [
    "list(data)"
   ]
  },
  {
   "cell_type": "code",
   "execution_count": 132,
   "id": "2733b237",
   "metadata": {},
   "outputs": [
    {
     "data": {
      "text/plain": [
       "<function matplotlib.pyplot.show(close=None, block=None)>"
      ]
     },
     "execution_count": 132,
     "metadata": {},
     "output_type": "execute_result"
    },
    {
     "data": {
      "image/png": "[encoded data removed]",
      "text/plain": [
       "<Figure size 432x288 with 1 Axes>"
      ]
     },
     "metadata": {
      "needs_background": "light"
     },
     "output_type": "display_data"
    }
   ],
   "source": [
    "# Relationship between SI_No and Average credit limit\n",
    "sns.scatterplot( data = data, x = \"Sl_No\" , y =\"Avg_Credit_Limit\" )\n",
    "plt.show"
   ]
  },
  {
   "cell_type": "markdown",
   "id": "4a963064",
   "metadata": {},
   "source": [
    "- Average credit limit increases with increase in SI number"
   ]
  },
  {
   "cell_type": "code",
   "execution_count": 133,
   "id": "10e6d8b6",
   "metadata": {},
   "outputs": [
    {
     "data": {
      "text/plain": [
       "<function matplotlib.pyplot.show(close=None, block=None)>"
      ]
     },
     "execution_count": 133,
     "metadata": {},
     "output_type": "execute_result"
    },
    {
     "data": {
      "image/png": "[encoded data removed]",
      "text/plain": [
       "<Figure size 432x288 with 1 Axes>"
      ]
     },
     "metadata": {
      "needs_background": "light"
     },
     "output_type": "display_data"
    }
   ],
   "source": [
    "# relationship between Avg_Credit_Limit and total credit card\n",
    "sns.lineplot( data = data, x = \"Avg_Credit_Limit\" , y =\"Total_Credit_Cards\" )\n",
    "plt.show"
   ]
  },
  {
   "cell_type": "markdown",
   "id": "e110ef3a",
   "metadata": {},
   "source": [
    "- total credit card somewhat increases with an increase in average credit limit"
   ]
  },
  {
   "cell_type": "code",
   "execution_count": 134,
   "id": "f2af52af",
   "metadata": {},
   "outputs": [
    {
     "data": {
      "text/plain": [
       "<function matplotlib.pyplot.show(close=None, block=None)>"
      ]
     },
     "execution_count": 134,
     "metadata": {},
     "output_type": "execute_result"
    },
    {
     "data": {
      "image/png": "[encoded data removed]",
      "text/plain": [
       "<Figure size 432x288 with 1 Axes>"
      ]
     },
     "metadata": {
      "needs_background": "light"
     },
     "output_type": "display_data"
    }
   ],
   "source": [
    "# relationship between total call made and total credit card\n",
    "sns.boxplot( data = data, x = \"Total_calls_made\" , y =\"Total_Credit_Cards\" )\n",
    "plt.show"
   ]
  },
  {
   "cell_type": "markdown",
   "id": "05663a2b",
   "metadata": {},
   "source": [
    "- those with higher numbers of credit cards have the lowest number of calls made"
   ]
  },
  {
   "cell_type": "code",
   "execution_count": 135,
   "id": "9e7555f9",
   "metadata": {},
   "outputs": [
    {
     "data": {
      "text/plain": [
       "<function matplotlib.pyplot.show(close=None, block=None)>"
      ]
     },
     "execution_count": 135,
     "metadata": {},
     "output_type": "execute_result"
    },
    {
     "data": {
      "image/png": "[encoded data removed]",
      "text/plain": [
       "<Figure size 432x288 with 1 Axes>"
      ]
     },
     "metadata": {
      "needs_background": "light"
     },
     "output_type": "display_data"
    }
   ],
   "source": [
    "# relationship between total visits online and total bank visits\n",
    "sns.lineplot( data = data, x = \"Total_visits_online\" , y =\"Total_visits_bank\" )\n",
    "plt.show"
   ]
  },
  {
   "cell_type": "markdown",
   "id": "e0a0fd95",
   "metadata": {},
   "source": [
    "- there is an inverse relationships between the bank and online visits. "
   ]
  },
  {
   "cell_type": "markdown",
   "id": "1d2a3a1a",
   "metadata": {},
   "source": [
    "### Dropping unecessary  column\n"
   ]
  },
  {
   "cell_type": "code",
   "execution_count": 136,
   "id": "a92b7b81",
   "metadata": {},
   "outputs": [
    {
     "data": {
      "text/html": [
       "<div>\n",
       "<style scoped>\n",
       "    .dataframe tbody tr th:only-of-type {\n",
       "        vertical-align: middle;\n",
       "    }\n",
       "\n",
       "    .dataframe tbody tr th {\n",
       "        vertical-align: top;\n",
       "    }\n",
       "\n",
       "    .dataframe thead th {\n",
       "        text-align: right;\n",
       "    }\n",
       "</style>\n",
       "<table border=\"1\" class=\"dataframe\">\n",
       "  <thead>\n",
       "    <tr style=\"text-align: right;\">\n",
       "      <th></th>\n",
       "      <th>Sl_No</th>\n",
       "      <th>Avg_Credit_Limit</th>\n",
       "      <th>Total_Credit_Cards</th>\n",
       "      <th>Total_visits_bank</th>\n",
       "      <th>Total_visits_online</th>\n",
       "      <th>Total_calls_made</th>\n",
       "    </tr>\n",
       "  </thead>\n",
       "  <tbody>\n",
       "    <tr>\n",
       "      <th>0</th>\n",
       "      <td>1</td>\n",
       "      <td>100000</td>\n",
       "      <td>2</td>\n",
       "      <td>1</td>\n",
       "      <td>1</td>\n",
       "      <td>0</td>\n",
       "    </tr>\n",
       "    <tr>\n",
       "      <th>1</th>\n",
       "      <td>2</td>\n",
       "      <td>50000</td>\n",
       "      <td>3</td>\n",
       "      <td>0</td>\n",
       "      <td>10</td>\n",
       "      <td>9</td>\n",
       "    </tr>\n",
       "    <tr>\n",
       "      <th>2</th>\n",
       "      <td>3</td>\n",
       "      <td>50000</td>\n",
       "      <td>7</td>\n",
       "      <td>1</td>\n",
       "      <td>3</td>\n",
       "      <td>4</td>\n",
       "    </tr>\n",
       "    <tr>\n",
       "      <th>3</th>\n",
       "      <td>4</td>\n",
       "      <td>30000</td>\n",
       "      <td>5</td>\n",
       "      <td>1</td>\n",
       "      <td>1</td>\n",
       "      <td>4</td>\n",
       "    </tr>\n",
       "    <tr>\n",
       "      <th>4</th>\n",
       "      <td>5</td>\n",
       "      <td>100000</td>\n",
       "      <td>6</td>\n",
       "      <td>0</td>\n",
       "      <td>12</td>\n",
       "      <td>3</td>\n",
       "    </tr>\n",
       "  </tbody>\n",
       "</table>\n",
       "</div>"
      ],
      "text/plain": [
       "   Sl_No  Avg_Credit_Limit  Total_Credit_Cards  Total_visits_bank  \\\n",
       "0      1            100000                   2                  1   \n",
       "1      2             50000                   3                  0   \n",
       "2      3             50000                   7                  1   \n",
       "3      4             30000                   5                  1   \n",
       "4      5            100000                   6                  0   \n",
       "\n",
       "   Total_visits_online  Total_calls_made  \n",
       "0                    1                 0  \n",
       "1                   10                 9  \n",
       "2                    3                 4  \n",
       "3                    1                 4  \n",
       "4                   12                 3  "
      ]
     },
     "execution_count": 136,
     "metadata": {},
     "output_type": "execute_result"
    }
   ],
   "source": [
    "# remove customer key column\n",
    "# renaming our final preprocessed data with X\n",
    "X = data.drop([\"Customer Key\"], axis=1, )\n",
    "X.head()"
   ]
  },
  {
   "cell_type": "markdown",
   "id": "6830f6d1",
   "metadata": {},
   "source": [
    "## normalize our data"
   ]
  },
  {
   "cell_type": "code",
   "execution_count": 137,
   "id": "82da6c76",
   "metadata": {},
   "outputs": [],
   "source": [
    "from sklearn.preprocessing import StandardScaler\n",
    "\n",
    "scaler = StandardScaler()\n",
    "\n",
    "X_std = scaler.fit_transform(X)"
   ]
  },
  {
   "cell_type": "markdown",
   "id": "feb7001f",
   "metadata": {},
   "source": [
    "## Implementing kmeans using inertia\n"
   ]
  },
  {
   "cell_type": "code",
   "execution_count": 138,
   "id": "1161026e",
   "metadata": {},
   "outputs": [
    {
     "name": "stderr",
     "output_type": "stream",
     "text": [
      "C:\\Users\\USER\\anaconda3\\lib\\site-packages\\sklearn\\cluster\\_kmeans.py:1334: UserWarning: KMeans is known to have a memory leak on Windows with MKL, when there are less chunks than available threads. You can avoid it by setting the environment variable OMP_NUM_THREADS=3.\n",
      "  warnings.warn(\n",
      "C:\\Users\\USER\\anaconda3\\lib\\site-packages\\sklearn\\cluster\\_kmeans.py:1334: UserWarning: KMeans is known to have a memory leak on Windows with MKL, when there are less chunks than available threads. You can avoid it by setting the environment variable OMP_NUM_THREADS=3.\n",
      "  warnings.warn(\n",
      "C:\\Users\\USER\\anaconda3\\lib\\site-packages\\sklearn\\cluster\\_kmeans.py:1334: UserWarning: KMeans is known to have a memory leak on Windows with MKL, when there are less chunks than available threads. You can avoid it by setting the environment variable OMP_NUM_THREADS=3.\n",
      "  warnings.warn(\n",
      "C:\\Users\\USER\\anaconda3\\lib\\site-packages\\sklearn\\cluster\\_kmeans.py:1334: UserWarning: KMeans is known to have a memory leak on Windows with MKL, when there are less chunks than available threads. You can avoid it by setting the environment variable OMP_NUM_THREADS=3.\n",
      "  warnings.warn(\n",
      "C:\\Users\\USER\\anaconda3\\lib\\site-packages\\sklearn\\cluster\\_kmeans.py:1334: UserWarning: KMeans is known to have a memory leak on Windows with MKL, when there are less chunks than available threads. You can avoid it by setting the environment variable OMP_NUM_THREADS=3.\n",
      "  warnings.warn(\n",
      "C:\\Users\\USER\\anaconda3\\lib\\site-packages\\sklearn\\cluster\\_kmeans.py:1334: UserWarning: KMeans is known to have a memory leak on Windows with MKL, when there are less chunks than available threads. You can avoid it by setting the environment variable OMP_NUM_THREADS=3.\n",
      "  warnings.warn(\n",
      "C:\\Users\\USER\\anaconda3\\lib\\site-packages\\sklearn\\cluster\\_kmeans.py:1334: UserWarning: KMeans is known to have a memory leak on Windows with MKL, when there are less chunks than available threads. You can avoid it by setting the environment variable OMP_NUM_THREADS=3.\n",
      "  warnings.warn(\n",
      "C:\\Users\\USER\\anaconda3\\lib\\site-packages\\sklearn\\cluster\\_kmeans.py:1334: UserWarning: KMeans is known to have a memory leak on Windows with MKL, when there are less chunks than available threads. You can avoid it by setting the environment variable OMP_NUM_THREADS=3.\n",
      "  warnings.warn(\n",
      "C:\\Users\\USER\\anaconda3\\lib\\site-packages\\sklearn\\cluster\\_kmeans.py:1334: UserWarning: KMeans is known to have a memory leak on Windows with MKL, when there are less chunks than available threads. You can avoid it by setting the environment variable OMP_NUM_THREADS=3.\n",
      "  warnings.warn(\n",
      "C:\\Users\\USER\\anaconda3\\lib\\site-packages\\sklearn\\cluster\\_kmeans.py:1334: UserWarning: KMeans is known to have a memory leak on Windows with MKL, when there are less chunks than available threads. You can avoid it by setting the environment variable OMP_NUM_THREADS=3.\n",
      "  warnings.warn(\n"
     ]
    }
   ],
   "source": [
    "# create an instance of the K-Means using inertia\n",
    "SSE = []\n",
    "\"\"\"\n",
    "An empty list called SSE is created to store the sum of squared errors for each value of k (the number of clusters).\n",
    "\"\"\"\n",
    "for i in range(1, 11): # looping through 10 values of inertia\n",
    "    kmeans = KMeans(n_clusters=i)\n",
    "    kmeans.fit(X_std)\n",
    "    SSE.append(kmeans.inertia_)"
   ]
  },
  {
   "cell_type": "code",
   "execution_count": 139,
   "id": "267f402d",
   "metadata": {},
   "outputs": [
    {
     "data": {
      "text/plain": [
       "[3960.0,\n",
       " 2264.522863565032,\n",
       " 1117.4060339225437,\n",
       " 924.4266167856129,\n",
       " 842.1004677186378,\n",
       " 765.2983435024868,\n",
       " 697.4591435996296,\n",
       " 659.9679114407008,\n",
       " 634.1115542448262,\n",
       " 604.9124450642555]"
      ]
     },
     "execution_count": 139,
     "metadata": {},
     "output_type": "execute_result"
    }
   ],
   "source": [
    "SSE"
   ]
  },
  {
   "cell_type": "code",
   "execution_count": 140,
   "id": "9aac5037",
   "metadata": {},
   "outputs": [
    {
     "data": {
      "text/html": [
       "<div>\n",
       "<style scoped>\n",
       "    .dataframe tbody tr th:only-of-type {\n",
       "        vertical-align: middle;\n",
       "    }\n",
       "\n",
       "    .dataframe tbody tr th {\n",
       "        vertical-align: top;\n",
       "    }\n",
       "\n",
       "    .dataframe thead th {\n",
       "        text-align: right;\n",
       "    }\n",
       "</style>\n",
       "<table border=\"1\" class=\"dataframe\">\n",
       "  <thead>\n",
       "    <tr style=\"text-align: right;\">\n",
       "      <th></th>\n",
       "      <th>Clusters</th>\n",
       "      <th>SSE</th>\n",
       "    </tr>\n",
       "  </thead>\n",
       "  <tbody>\n",
       "    <tr>\n",
       "      <th>0</th>\n",
       "      <td>1</td>\n",
       "      <td>3960.000000</td>\n",
       "    </tr>\n",
       "    <tr>\n",
       "      <th>1</th>\n",
       "      <td>2</td>\n",
       "      <td>2264.522864</td>\n",
       "    </tr>\n",
       "    <tr>\n",
       "      <th>2</th>\n",
       "      <td>3</td>\n",
       "      <td>1117.406034</td>\n",
       "    </tr>\n",
       "    <tr>\n",
       "      <th>3</th>\n",
       "      <td>4</td>\n",
       "      <td>924.426617</td>\n",
       "    </tr>\n",
       "    <tr>\n",
       "      <th>4</th>\n",
       "      <td>5</td>\n",
       "      <td>842.100468</td>\n",
       "    </tr>\n",
       "    <tr>\n",
       "      <th>5</th>\n",
       "      <td>6</td>\n",
       "      <td>765.298344</td>\n",
       "    </tr>\n",
       "    <tr>\n",
       "      <th>6</th>\n",
       "      <td>7</td>\n",
       "      <td>697.459144</td>\n",
       "    </tr>\n",
       "    <tr>\n",
       "      <th>7</th>\n",
       "      <td>8</td>\n",
       "      <td>659.967911</td>\n",
       "    </tr>\n",
       "    <tr>\n",
       "      <th>8</th>\n",
       "      <td>9</td>\n",
       "      <td>634.111554</td>\n",
       "    </tr>\n",
       "    <tr>\n",
       "      <th>9</th>\n",
       "      <td>10</td>\n",
       "      <td>604.912445</td>\n",
       "    </tr>\n",
       "  </tbody>\n",
       "</table>\n",
       "</div>"
      ],
      "text/plain": [
       "   Clusters          SSE\n",
       "0         1  3960.000000\n",
       "1         2  2264.522864\n",
       "2         3  1117.406034\n",
       "3         4   924.426617\n",
       "4         5   842.100468\n",
       "5         6   765.298344\n",
       "6         7   697.459144\n",
       "7         8   659.967911\n",
       "8         9   634.111554\n",
       "9        10   604.912445"
      ]
     },
     "execution_count": 140,
     "metadata": {},
     "output_type": "execute_result"
    }
   ],
   "source": [
    "# create a dataframe with no of clusters and SSE \n",
    "frame = pd.DataFrame({\"Clusters\": range(1, 11), \"SSE\": SSE})\n",
    "frame"
   ]
  },
  {
   "cell_type": "code",
   "execution_count": 141,
   "id": "2b91782e",
   "metadata": {},
   "outputs": [
    {
     "data": {
      "image/png": "[encoded data removed]",
      "text/plain": [
       "<Figure size 720x360 with 1 Axes>"
      ]
     },
     "metadata": {
      "needs_background": "light"
     },
     "output_type": "display_data"
    }
   ],
   "source": [
    "# Visualize the inertia\n",
    "plt.figure(figsize = (10, 5))\n",
    "plt.plot(frame[\"Clusters\"], frame[\"SSE\"], marker = \"o\")\n",
    "plt.xlabel(\"Number of clusters\")\n",
    "plt.ylabel(\"Inertia\")\n",
    "plt.show()"
   ]
  },
  {
   "cell_type": "markdown",
   "id": "e4bbafb8",
   "metadata": {},
   "source": [
    "- point 10 is where the error the minimum\n",
    "- considering elbow curve, the error start to decrease at 3 or 4\n",
    "- we can experiment with 3 or 4 number of clusters"
   ]
  },
  {
   "cell_type": "code",
   "execution_count": 142,
   "id": "610de2e7",
   "metadata": {},
   "outputs": [
    {
     "name": "stderr",
     "output_type": "stream",
     "text": [
      "C:\\Users\\USER\\anaconda3\\lib\\site-packages\\sklearn\\cluster\\_kmeans.py:1334: UserWarning: KMeans is known to have a memory leak on Windows with MKL, when there are less chunks than available threads. You can avoid it by setting the environment variable OMP_NUM_THREADS=3.\n",
      "  warnings.warn(\n"
     ]
    }
   ],
   "source": [
    "# re-build the model with the optimal number of clusters\n",
    "\n",
    "kmeans = KMeans(n_clusters=3, random_state = 0)\n",
    "\n",
    "clusters = kmeans.fit_predict(X_std)"
   ]
  },
  {
   "cell_type": "code",
   "execution_count": 143,
   "id": "058338b4",
   "metadata": {},
   "outputs": [
    {
     "data": {
      "text/plain": [
       "array([1, 1, 1, 1, 2, 1, 2, 1, 1, 1, 1, 1, 1, 1, 1, 1, 1, 1, 1, 1, 1, 1,\n",
       "       1, 1, 1, 1, 1, 1, 1, 1, 1, 1, 1, 1, 1, 1, 1, 1, 1, 1, 1, 1, 1, 1,\n",
       "       1, 1, 1, 1, 1, 1, 1, 1, 1, 1, 1, 1, 1, 1, 1, 1, 1, 1, 1, 1, 1, 1,\n",
       "       1, 1, 1, 1, 1, 1, 1, 1, 1, 1, 1, 1, 1, 1, 1, 1, 1, 1, 1, 1, 1, 1,\n",
       "       1, 1, 1, 1, 1, 1, 1, 1, 1, 1, 1, 1, 1, 1, 1, 1, 1, 1, 1, 1, 1, 1,\n",
       "       1, 1, 1, 1, 1, 1, 1, 1, 1, 1, 1, 1, 1, 1, 1, 1, 1, 1, 1, 1, 1, 1,\n",
       "       1, 1, 1, 1, 1, 1, 1, 1, 1, 1, 1, 1, 1, 1, 1, 1, 1, 1, 1, 1, 1, 1,\n",
       "       1, 1, 1, 1, 1, 1, 1, 1, 1, 1, 1, 1, 1, 1, 1, 1, 1, 1, 1, 1, 1, 1,\n",
       "       1, 1, 1, 1, 1, 1, 1, 1, 1, 1, 1, 1, 1, 1, 1, 1, 1, 1, 1, 1, 1, 1,\n",
       "       1, 1, 1, 1, 1, 1, 1, 1, 1, 1, 1, 1, 1, 1, 1, 1, 1, 1, 1, 1, 1, 1,\n",
       "       1, 1, 1, 1, 1, 1, 1, 1, 0, 0, 0, 0, 0, 0, 0, 0, 0, 0, 0, 0, 0, 0,\n",
       "       0, 0, 0, 0, 0, 0, 0, 0, 0, 0, 0, 0, 0, 0, 0, 0, 0, 0, 0, 0, 0, 0,\n",
       "       0, 0, 0, 0, 0, 0, 0, 0, 0, 0, 0, 0, 0, 0, 0, 0, 0, 0, 0, 0, 0, 0,\n",
       "       0, 0, 0, 0, 0, 0, 0, 0, 0, 0, 0, 0, 0, 0, 0, 0, 0, 0, 0, 0, 0, 0,\n",
       "       0, 0, 0, 0, 0, 0, 0, 0, 0, 0, 0, 0, 0, 0, 0, 0, 0, 0, 0, 0, 0, 0,\n",
       "       0, 0, 0, 0, 0, 0, 0, 0, 0, 0, 0, 0, 0, 0, 0, 0, 0, 0, 0, 0, 0, 0,\n",
       "       0, 0, 0, 0, 0, 0, 0, 0, 0, 0, 0, 0, 0, 0, 0, 0, 0, 0, 0, 0, 0, 0,\n",
       "       0, 0, 0, 0, 0, 0, 0, 0, 0, 0, 0, 0, 0, 0, 0, 0, 0, 0, 0, 0, 0, 0,\n",
       "       0, 0, 0, 0, 0, 0, 0, 0, 0, 0, 0, 0, 0, 0, 0, 0, 0, 0, 0, 0, 0, 0,\n",
       "       0, 0, 0, 0, 0, 0, 0, 0, 0, 0, 0, 0, 0, 0, 0, 0, 0, 0, 0, 0, 0, 0,\n",
       "       0, 0, 0, 0, 0, 0, 0, 0, 0, 0, 0, 0, 0, 0, 0, 0, 0, 0, 0, 0, 0, 0,\n",
       "       0, 0, 0, 0, 0, 0, 0, 0, 0, 0, 0, 0, 0, 0, 0, 0, 0, 0, 0, 0, 0, 0,\n",
       "       0, 0, 0, 0, 0, 0, 0, 0, 0, 0, 0, 0, 0, 0, 0, 0, 0, 0, 0, 0, 0, 0,\n",
       "       0, 0, 0, 0, 0, 0, 0, 0, 0, 0, 0, 0, 0, 0, 0, 0, 0, 0, 0, 0, 0, 0,\n",
       "       0, 0, 0, 0, 0, 0, 0, 0, 0, 0, 0, 0, 0, 0, 0, 0, 0, 0, 0, 0, 0, 0,\n",
       "       0, 0, 0, 0, 0, 0, 0, 0, 0, 0, 0, 0, 0, 0, 0, 0, 0, 0, 0, 0, 0, 0,\n",
       "       0, 0, 0, 0, 0, 0, 0, 0, 0, 0, 0, 0, 0, 0, 0, 0, 0, 0, 0, 0, 0, 0,\n",
       "       0, 0, 0, 0, 0, 0, 0, 0, 0, 0, 0, 0, 0, 0, 0, 0, 0, 0, 2, 2, 2, 2,\n",
       "       2, 2, 2, 2, 2, 2, 2, 2, 2, 2, 2, 2, 2, 2, 2, 2, 2, 2, 2, 2, 2, 2,\n",
       "       2, 2, 2, 2, 2, 2, 2, 2, 2, 2, 2, 2, 2, 2, 2, 2, 2, 2, 2, 2, 2, 2])"
      ]
     },
     "execution_count": 143,
     "metadata": {},
     "output_type": "execute_result"
    }
   ],
   "source": [
    "clusters"
   ]
  },
  {
   "cell_type": "markdown",
   "id": "3ff2e0c7",
   "metadata": {},
   "source": [
    "- 3 clusters are used; 0, 1 and 2"
   ]
  },
  {
   "cell_type": "code",
   "execution_count": 144,
   "id": "176dc54b",
   "metadata": {},
   "outputs": [
    {
     "data": {
      "text/html": [
       "<div>\n",
       "<style scoped>\n",
       "    .dataframe tbody tr th:only-of-type {\n",
       "        vertical-align: middle;\n",
       "    }\n",
       "\n",
       "    .dataframe tbody tr th {\n",
       "        vertical-align: top;\n",
       "    }\n",
       "\n",
       "    .dataframe thead th {\n",
       "        text-align: right;\n",
       "    }\n",
       "</style>\n",
       "<table border=\"1\" class=\"dataframe\">\n",
       "  <thead>\n",
       "    <tr style=\"text-align: right;\">\n",
       "      <th></th>\n",
       "      <th>Sl_No</th>\n",
       "      <th>Avg_Credit_Limit</th>\n",
       "      <th>Total_Credit_Cards</th>\n",
       "      <th>Total_visits_bank</th>\n",
       "      <th>Total_visits_online</th>\n",
       "      <th>Total_calls_made</th>\n",
       "      <th>kmeans_cluster</th>\n",
       "    </tr>\n",
       "  </thead>\n",
       "  <tbody>\n",
       "    <tr>\n",
       "      <th>0</th>\n",
       "      <td>1</td>\n",
       "      <td>100000</td>\n",
       "      <td>2</td>\n",
       "      <td>1</td>\n",
       "      <td>1</td>\n",
       "      <td>0</td>\n",
       "      <td>1</td>\n",
       "    </tr>\n",
       "    <tr>\n",
       "      <th>1</th>\n",
       "      <td>2</td>\n",
       "      <td>50000</td>\n",
       "      <td>3</td>\n",
       "      <td>0</td>\n",
       "      <td>10</td>\n",
       "      <td>9</td>\n",
       "      <td>1</td>\n",
       "    </tr>\n",
       "    <tr>\n",
       "      <th>2</th>\n",
       "      <td>3</td>\n",
       "      <td>50000</td>\n",
       "      <td>7</td>\n",
       "      <td>1</td>\n",
       "      <td>3</td>\n",
       "      <td>4</td>\n",
       "      <td>1</td>\n",
       "    </tr>\n",
       "    <tr>\n",
       "      <th>3</th>\n",
       "      <td>4</td>\n",
       "      <td>30000</td>\n",
       "      <td>5</td>\n",
       "      <td>1</td>\n",
       "      <td>1</td>\n",
       "      <td>4</td>\n",
       "      <td>1</td>\n",
       "    </tr>\n",
       "    <tr>\n",
       "      <th>4</th>\n",
       "      <td>5</td>\n",
       "      <td>100000</td>\n",
       "      <td>6</td>\n",
       "      <td>0</td>\n",
       "      <td>12</td>\n",
       "      <td>3</td>\n",
       "      <td>2</td>\n",
       "    </tr>\n",
       "    <tr>\n",
       "      <th>5</th>\n",
       "      <td>6</td>\n",
       "      <td>20000</td>\n",
       "      <td>3</td>\n",
       "      <td>0</td>\n",
       "      <td>1</td>\n",
       "      <td>8</td>\n",
       "      <td>1</td>\n",
       "    </tr>\n",
       "    <tr>\n",
       "      <th>6</th>\n",
       "      <td>7</td>\n",
       "      <td>100000</td>\n",
       "      <td>5</td>\n",
       "      <td>0</td>\n",
       "      <td>11</td>\n",
       "      <td>2</td>\n",
       "      <td>2</td>\n",
       "    </tr>\n",
       "    <tr>\n",
       "      <th>7</th>\n",
       "      <td>8</td>\n",
       "      <td>15000</td>\n",
       "      <td>3</td>\n",
       "      <td>0</td>\n",
       "      <td>1</td>\n",
       "      <td>1</td>\n",
       "      <td>1</td>\n",
       "    </tr>\n",
       "  </tbody>\n",
       "</table>\n",
       "</div>"
      ],
      "text/plain": [
       "   Sl_No  Avg_Credit_Limit  Total_Credit_Cards  Total_visits_bank  \\\n",
       "0      1            100000                   2                  1   \n",
       "1      2             50000                   3                  0   \n",
       "2      3             50000                   7                  1   \n",
       "3      4             30000                   5                  1   \n",
       "4      5            100000                   6                  0   \n",
       "5      6             20000                   3                  0   \n",
       "6      7            100000                   5                  0   \n",
       "7      8             15000                   3                  0   \n",
       "\n",
       "   Total_visits_online  Total_calls_made  kmeans_cluster  \n",
       "0                    1                 0               1  \n",
       "1                   10                 9               1  \n",
       "2                    3                 4               1  \n",
       "3                    1                 4               1  \n",
       "4                   12                 3               2  \n",
       "5                    1                 8               1  \n",
       "6                   11                 2               2  \n",
       "7                    1                 1               1  "
      ]
     },
     "execution_count": 144,
     "metadata": {},
     "output_type": "execute_result"
    }
   ],
   "source": [
    "### insert the clusters into the original dataset\n",
    "X[\"kmeans_cluster\"] = clusters\n",
    "X.head(8)"
   ]
  },
  {
   "cell_type": "markdown",
   "id": "f67b4af8",
   "metadata": {},
   "source": [
    "- row 0,1,2,3, 5 and7 were grouped to cluster 1\n",
    "- row 4 and 6 were grouped to cluster 2"
   ]
  },
  {
   "cell_type": "code",
   "execution_count": 145,
   "id": "ce2ebd9f",
   "metadata": {},
   "outputs": [],
   "source": [
    "# remove kmeans_cluster back from the column\n",
    "num_col = X.select_dtypes(include = \"number\").columns.tolist()\n",
    "\n",
    "num_col.remove(\"kmeans_cluster\")"
   ]
  },
  {
   "cell_type": "code",
   "execution_count": 146,
   "id": "75f23bb8",
   "metadata": {},
   "outputs": [
    {
     "data": {
      "text/plain": [
       "<AxesSubplot:xlabel='kmeans_cluster', ylabel='Avg_Credit_Limit'>"
      ]
     },
     "execution_count": 146,
     "metadata": {},
     "output_type": "execute_result"
    },
    {
     "data": {
      "image/png": "[encoded data removed]",
      "text/plain": [
       "<Figure size 432x288 with 1 Axes>"
      ]
     },
     "metadata": {
      "needs_background": "light"
     },
     "output_type": "display_data"
    }
   ],
   "source": [
    "# Plotting the kmean cluster against one of the columns\n",
    "sns.boxplot(x = X[\"kmeans_cluster\"], y = X[\"Avg_Credit_Limit\"])"
   ]
  },
  {
   "cell_type": "code",
   "execution_count": 147,
   "id": "3db48ea3",
   "metadata": {},
   "outputs": [
    {
     "data": {
      "image/png": "[encoded data removed]",
      "text/plain": [
       "<Figure size 1152x432 with 7 Axes>"
      ]
     },
     "metadata": {
      "needs_background": "light"
     },
     "output_type": "display_data"
    }
   ],
   "source": [
    "# Plotting the kmean cluster against all the columns\n",
    "# examine the groups of customers\n",
    "fig, ax = plt.subplots(1, 7, figsize = (16, 6))\n",
    "fig.suptitle(\"Group of customers\")\n",
    "\n",
    "count = 0\n",
    "\n",
    "for i in range(len(num_col)):\n",
    "    sns.boxplot(ax = ax[i], x = X[\"kmeans_cluster\"], y = X[num_col[count]])\n",
    "    count += 1\n",
    "\n",
    "fig.tight_layout()"
   ]
  },
  {
   "cell_type": "markdown",
   "id": "e9859c89",
   "metadata": {},
   "source": [
    "- the first cluster (blue)are those with high SI number, low average credit limit, high total bank vists, low total online visits\n",
    "- the second cluster (yellow) have low SI number, low average credit limit, low total credit cards, low total bank visits and high total calls made\n",
    "- the thid cluster (green) are those with extremely high SI number, low average credit limit, high total credit cards, low total bank visits, high total online visits and low number of calls made"
   ]
  },
  {
   "cell_type": "markdown",
   "id": "ea601e34",
   "metadata": {},
   "source": [
    "#### Implementing kmean using Silhouette score\n"
   ]
  },
  {
   "cell_type": "code",
   "execution_count": 148,
   "id": "233b25a3",
   "metadata": {},
   "outputs": [
    {
     "data": {
      "text/plain": [
       "0.5304536180389302"
      ]
     },
     "execution_count": 148,
     "metadata": {},
     "output_type": "execute_result"
    }
   ],
   "source": [
    "# calculate silhouette score\n",
    "from sklearn.metrics import silhouette_score\n",
    "kmeans_sil = silhouette_score(X_std, clusters)\n",
    "# it takes two arguments; the scaled data and the predicted clusters\n",
    "kmeans_sil"
   ]
  },
  {
   "cell_type": "markdown",
   "id": "18afc0c1",
   "metadata": {},
   "source": [
    "- the silhouette score is 53 percent which is somewhat acceptable"
   ]
  },
  {
   "cell_type": "code",
   "execution_count": 149,
   "id": "9a7ea29a",
   "metadata": {},
   "outputs": [
    {
     "name": "stderr",
     "output_type": "stream",
     "text": [
      "C:\\Users\\USER\\anaconda3\\lib\\site-packages\\sklearn\\cluster\\_kmeans.py:1334: UserWarning: KMeans is known to have a memory leak on Windows with MKL, when there are less chunks than available threads. You can avoid it by setting the environment variable OMP_NUM_THREADS=3.\n",
      "  warnings.warn(\n",
      "C:\\Users\\USER\\anaconda3\\lib\\site-packages\\sklearn\\cluster\\_kmeans.py:1334: UserWarning: KMeans is known to have a memory leak on Windows with MKL, when there are less chunks than available threads. You can avoid it by setting the environment variable OMP_NUM_THREADS=3.\n",
      "  warnings.warn(\n",
      "C:\\Users\\USER\\anaconda3\\lib\\site-packages\\sklearn\\cluster\\_kmeans.py:1334: UserWarning: KMeans is known to have a memory leak on Windows with MKL, when there are less chunks than available threads. You can avoid it by setting the environment variable OMP_NUM_THREADS=3.\n",
      "  warnings.warn(\n",
      "C:\\Users\\USER\\anaconda3\\lib\\site-packages\\sklearn\\cluster\\_kmeans.py:1334: UserWarning: KMeans is known to have a memory leak on Windows with MKL, when there are less chunks than available threads. You can avoid it by setting the environment variable OMP_NUM_THREADS=3.\n",
      "  warnings.warn(\n",
      "C:\\Users\\USER\\anaconda3\\lib\\site-packages\\sklearn\\cluster\\_kmeans.py:1334: UserWarning: KMeans is known to have a memory leak on Windows with MKL, when there are less chunks than available threads. You can avoid it by setting the environment variable OMP_NUM_THREADS=3.\n",
      "  warnings.warn(\n",
      "C:\\Users\\USER\\anaconda3\\lib\\site-packages\\sklearn\\cluster\\_kmeans.py:1334: UserWarning: KMeans is known to have a memory leak on Windows with MKL, when there are less chunks than available threads. You can avoid it by setting the environment variable OMP_NUM_THREADS=3.\n",
      "  warnings.warn(\n",
      "C:\\Users\\USER\\anaconda3\\lib\\site-packages\\sklearn\\cluster\\_kmeans.py:1334: UserWarning: KMeans is known to have a memory leak on Windows with MKL, when there are less chunks than available threads. You can avoid it by setting the environment variable OMP_NUM_THREADS=3.\n",
      "  warnings.warn(\n",
      "C:\\Users\\USER\\anaconda3\\lib\\site-packages\\sklearn\\cluster\\_kmeans.py:1334: UserWarning: KMeans is known to have a memory leak on Windows with MKL, when there are less chunks than available threads. You can avoid it by setting the environment variable OMP_NUM_THREADS=3.\n",
      "  warnings.warn(\n"
     ]
    }
   ],
   "source": [
    "sil_scores = []\n",
    "\n",
    "for i in range(2, 10): # silhouette score works with 2 groups upward\n",
    "    kmeans = KMeans(n_clusters=i, random_state=10)\n",
    "    clusters = kmeans.fit_predict(X_std)\n",
    "    kmeans_sil = silhouette_score(X_std, clusters)\n",
    "    sil_scores.append(kmeans_sil)\n"
   ]
  },
  {
   "cell_type": "code",
   "execution_count": 150,
   "id": "fdb5e532",
   "metadata": {},
   "outputs": [
    {
     "data": {
      "text/plain": [
       "[0.4470141077035807,\n",
       " 0.5304536180389302,\n",
       " 0.37663553573943503,\n",
       " 0.27628757287819206,\n",
       " 0.25152718743189934,\n",
       " 0.2598913964205118,\n",
       " 0.23885523974353984,\n",
       " 0.22740605222400748]"
      ]
     },
     "execution_count": 150,
     "metadata": {},
     "output_type": "execute_result"
    }
   ],
   "source": [
    "sil_scores"
   ]
  },
  {
   "cell_type": "code",
   "execution_count": 151,
   "id": "418043c1",
   "metadata": {},
   "outputs": [
    {
     "data": {
      "image/png": "[encoded data removed]",
      "text/plain": [
       "<Figure size 720x360 with 1 Axes>"
      ]
     },
     "metadata": {
      "needs_background": "light"
     },
     "output_type": "display_data"
    }
   ],
   "source": [
    "frame2 = pd.DataFrame({\"Clusters\": range(2, 10), \"Sil\": sil_scores})\n",
    "\n",
    "\n",
    "plt.figure(figsize = (10, 5))\n",
    "plt.plot(frame2[\"Clusters\"], frame2[\"Sil\"], marker = \"o\")\n",
    "plt.xlabel(\"Number of clusters\")\n",
    "plt.ylabel(\"Silhouette scores\")\n",
    "plt.show()"
   ]
  },
  {
   "cell_type": "markdown",
   "id": "24f6275a",
   "metadata": {},
   "source": [
    "- number of clusters that gave the maximum number of score is 3 and this validates the result of inertia\n"
   ]
  },
  {
   "cell_type": "markdown",
   "id": "338fc61b",
   "metadata": {},
   "source": [
    "#### Implementing DBSCAN"
   ]
  },
  {
   "cell_type": "code",
   "execution_count": 152,
   "id": "0eacbb4a",
   "metadata": {},
   "outputs": [],
   "source": [
    "from sklearn.cluster import DBSCAN"
   ]
  },
  {
   "cell_type": "code",
   "execution_count": 153,
   "id": "c3b45008",
   "metadata": {},
   "outputs": [],
   "source": [
    "# instantiate the model\n",
    "dbscan = DBSCAN()\n",
    "# the default eps is 0.5\n",
    "# min_samples: the minimum number of points to consider;default is 5\n",
    "db_labels = dbscan.fit_predict(X_std)"
   ]
  },
  {
   "cell_type": "code",
   "execution_count": 154,
   "id": "f1baab09",
   "metadata": {},
   "outputs": [
    {
     "data": {
      "text/plain": [
       "array([-1, -1, -1, -1, -1, -1, -1, -1, -1, -1, -1, -1, -1, -1, -1, -1, -1,\n",
       "       -1, -1, -1, -1,  0, -1, -1, -1, -1, -1, -1,  0, -1, -1,  3, -1, -1,\n",
       "       -1, -1, -1,  0, -1, -1, -1, -1, -1, -1, -1,  7, -1, -1, -1,  1, -1,\n",
       "       -1, -1,  6, -1, -1, -1, -1, -1,  7, -1, -1, -1,  0, -1, -1,  0,  1,\n",
       "       -1,  2,  2,  1, -1,  3, -1,  3,  2,  3, -1, -1, -1,  3, -1,  3, -1,\n",
       "       -1, -1, -1,  4, -1,  3, -1, -1,  2, -1,  2,  1, -1,  4,  3, -1,  4,\n",
       "       -1, -1, -1,  4, -1,  1,  1, -1, -1,  6,  7, -1,  5,  8, -1,  5,  3,\n",
       "        6, -1,  6, -1,  4,  8, -1,  7, -1, -1,  3,  3, -1, -1, -1, -1,  1,\n",
       "       -1, -1,  4, -1, -1,  9,  7, -1, -1, -1, -1, -1, -1, -1, -1, -1,  1,\n",
       "        5, -1, -1, -1, -1, -1, -1, -1, -1,  9, -1,  5, -1,  5,  1,  4,  3,\n",
       "       -1,  8, -1, -1, -1, -1, -1,  5, -1, -1,  9, -1, -1, -1, -1, -1, -1,\n",
       "        8,  9, -1, -1, -1,  9, -1, -1, -1, -1, -1, -1, -1, -1, -1, -1, -1,\n",
       "       -1, -1, -1, -1, -1, -1, -1, -1, -1, -1,  7,  5, -1, -1, -1, -1, -1,\n",
       "       -1, -1, -1, -1, -1, -1,  8, -1, -1, -1, -1, -1, -1, -1, -1, -1, -1,\n",
       "       -1, -1, -1, 11, -1, -1, -1, -1, 17, -1, 10, 10, -1, 13, 11, 13, -1,\n",
       "       12, -1, 15, 14, 16, -1, -1, -1, -1, -1, -1, -1, -1, -1, 12, -1, -1,\n",
       "       13, 10, 12, 13, -1, 11, 15, 10, -1, -1, 14, -1, -1, 12, 17, -1, -1,\n",
       "       10, 14, -1, -1, -1, 10, 15, -1, -1, -1, 10, -1, 15, -1, -1, 16, -1,\n",
       "       14, -1, 11, 10, 17, 14, -1, -1, 14, -1, -1, 11, -1, 13, 10, -1, 14,\n",
       "       -1, 11, 16, 16, -1, 16, 15, 14, 10, -1, -1, -1, 10, 16, -1, -1, 14,\n",
       "       14, -1, 15, -1, -1, -1, 14, -1, 16, -1, -1, -1, -1, -1, -1, -1, 10,\n",
       "       16, -1, -1, 14, 14, -1, -1, 15, -1, -1, -1, -1, 15, -1, -1, 10, 17,\n",
       "       -1, 14, -1, -1, 10, -1, -1, -1, 14, 14, -1, -1, -1, -1, -1, 11, -1,\n",
       "       -1, -1, -1, -1, 17, -1, -1, -1, -1, -1, -1, 19, -1, -1, -1, -1, -1,\n",
       "       -1, -1, -1, -1, -1, -1, -1, -1, -1, -1, -1, -1, -1, -1, -1, -1, -1,\n",
       "       -1, -1, -1, -1, -1, -1, -1, -1, -1, 19, -1, -1, -1, -1, -1, -1, -1,\n",
       "       -1, -1, -1, -1, -1, -1, 18, -1, -1, 18, -1, -1, -1, -1, -1, -1, -1,\n",
       "       -1, -1, 18, -1, -1, 19, -1, -1, 18, -1, -1, -1, -1, -1, -1, -1, -1,\n",
       "       -1, -1, -1, -1, -1, -1, -1, -1, -1, -1, 19, -1, -1, -1, -1, -1, -1,\n",
       "       -1, -1, -1, -1, 19, 18, -1, -1, -1, -1, -1, -1, -1, -1, -1, -1, 18,\n",
       "       -1, -1, -1, -1, -1, 18, -1, -1, -1, -1, -1, -1, -1, -1, -1, -1, -1,\n",
       "       -1, -1, -1, -1, -1, -1, -1, -1, -1, -1, -1, -1, -1, -1, -1, -1, -1,\n",
       "       -1, -1, -1, -1, -1, -1, -1, -1, -1, -1, -1, -1, -1, -1, -1, -1, -1,\n",
       "       -1, -1, -1, -1, -1, -1, -1, -1, -1, -1, -1, -1, -1, -1, -1, -1, -1,\n",
       "       -1, -1, -1, -1, -1, -1, -1, -1, -1, -1, -1, -1, -1, -1, -1, -1, -1,\n",
       "       -1, -1, -1, -1, -1, -1, -1, -1, -1, -1, -1, -1, -1, -1, -1, -1, -1,\n",
       "       -1, -1, -1, -1, -1, -1, -1, -1, -1, -1, -1, -1, -1, -1, -1, -1, -1,\n",
       "       -1, -1, -1, -1, -1, -1, -1, -1, -1, -1, -1, -1, -1, -1, -1, -1, -1,\n",
       "       -1, -1, -1, -1, -1, -1, -1, -1, -1, -1, -1, -1, -1, -1],\n",
       "      dtype=int64)"
      ]
     },
     "execution_count": 154,
     "metadata": {},
     "output_type": "execute_result"
    }
   ],
   "source": [
    "db_labels"
   ]
  },
  {
   "cell_type": "markdown",
   "id": "22de96ed",
   "metadata": {},
   "source": [
    "- we have a number of clusters\n",
    "- we will loop through all eps and min_sample at the same time, calculate sillouette score and determine the optimal eps and min_sample"
   ]
  },
  {
   "cell_type": "code",
   "execution_count": null,
   "id": "b4ea5a5e",
   "metadata": {},
   "outputs": [],
   "source": []
  },
  {
   "cell_type": "code",
   "execution_count": 155,
   "id": "4db0c1c4",
   "metadata": {},
   "outputs": [
    {
     "name": "stdout",
     "output_type": "stream",
     "text": [
      "For eps=0.5 and min_samples=2, the silhouette score is -0.06\n",
      "For eps=0.5 and min_samples=3, the silhouette score is -0.18\n",
      "For eps=0.5 and min_samples=4, the silhouette score is -0.27\n",
      "For eps=0.5 and min_samples=5, the silhouette score is -0.36\n",
      "For eps=1 and min_samples=2, the silhouette score is 0.44\n",
      "For eps=1 and min_samples=3, the silhouette score is 0.47\n",
      "For eps=1 and min_samples=4, the silhouette score is 0.47\n",
      "For eps=1 and min_samples=5, the silhouette score is 0.48\n",
      "For eps=1.5 and min_samples=2, the silhouette score is 0.34\n",
      "For eps=1.5 and min_samples=3, the silhouette score is 0.41\n",
      "For eps=1.5 and min_samples=4, the silhouette score is 0.41\n",
      "For eps=1.5 and min_samples=5, the silhouette score is 0.41\n",
      "For eps=2 and min_samples=2, the silhouette score is 0.20\n",
      "For eps=2 and min_samples=3, the silhouette score is 0.32\n",
      "For eps=2 and min_samples=4, the silhouette score is 0.32\n",
      "For eps=2 and min_samples=5, the silhouette score is 0.32\n"
     ]
    }
   ],
   "source": [
    "# Define the range of values for eps and min_samples\n",
    "eps_range = [0.5, 1, 1.5, 2, ]\n",
    "min_samples_range = [2, 3, 4, 5]\n",
    "\n",
    "for eps in eps_range:\n",
    "    for min_samples in min_samples_range:\n",
    "        dbscan = DBSCAN(eps=eps, min_samples=min_samples)\n",
    "        # Fit the model and generate cluster labels\n",
    "        db_labels = dbscan.fit_predict(X_std)\n",
    "        # Calculate the silhouette score for the current combination of eps and min_samples\n",
    "        silhouette_avg = silhouette_score(X_std, db_labels)\n",
    "        # Print the silhouette score for the current combination of eps and min_samples\n",
    "        print(f\"For eps={eps} and min_samples={min_samples}, the silhouette score is {silhouette_avg:.2f}\")"
   ]
  },
  {
   "cell_type": "markdown",
   "id": "b2830cab",
   "metadata": {},
   "source": [
    "- optimal eps of 1 and min_samples of 5 gives the highest the silhouette score of 0.48"
   ]
  },
  {
   "cell_type": "code",
   "execution_count": 156,
   "id": "28032112",
   "metadata": {},
   "outputs": [],
   "source": [
    "## rebuilding the model with the optimal eps and min_samples\n",
    "dbscan = DBSCAN(eps = 1, min_samples = 5 )\n",
    "# the default eps is 0.5\n",
    "# min_samples: the minimum number of points to consider;default is 5\n",
    "db_labels = dbscan.fit_predict(X_std)"
   ]
  },
  {
   "cell_type": "code",
   "execution_count": 157,
   "id": "8a976521",
   "metadata": {},
   "outputs": [
    {
     "data": {
      "text/plain": [
       "array([-1, -1, -1, -1, -1,  0, -1,  0,  0,  0,  0,  0,  0,  0,  0,  0,  0,\n",
       "        0,  0,  0,  0,  0,  0,  0,  0,  0,  0,  0,  0,  0,  0,  0,  0,  0,\n",
       "        0,  0,  0,  0,  0,  0,  0,  0,  0,  0,  0,  0,  0,  0,  0,  0,  0,\n",
       "        0,  0,  0,  0,  0,  0,  0,  0,  0,  0,  0,  0,  0,  0,  0,  0,  0,\n",
       "        0,  0,  0,  0,  0,  0,  0,  0,  0,  0,  0,  0,  0,  0,  0,  0,  0,\n",
       "        0,  0,  0,  0,  0,  0,  0,  0,  0,  0,  0,  0,  0,  0,  0,  0,  0,\n",
       "        0,  0,  0,  0,  0,  0,  0,  0,  0,  0,  0,  0,  0,  0,  0,  0,  0,\n",
       "        0,  0,  0,  0,  0,  0,  0,  0,  0,  0,  0,  0,  0,  0,  0,  0,  0,\n",
       "        0,  0,  0,  0,  0,  0,  0,  0,  0,  0,  0,  0,  0,  0,  0,  0,  0,\n",
       "        0,  0,  0,  0,  0,  0,  0,  0,  0,  0,  0,  0,  0,  0,  0,  0,  0,\n",
       "        0,  0,  0,  0,  0,  0,  0,  0,  0,  0,  0,  0,  0,  0,  0,  0,  0,\n",
       "        0,  0,  0,  0,  0,  0,  0,  0,  0,  0,  0,  0,  0,  0,  0,  0,  0,\n",
       "        0,  0,  0,  0,  0,  0,  0,  0,  0,  0,  0,  0,  0,  0,  0,  0,  0,\n",
       "        0,  0,  0,  0,  0,  0,  0,  0,  0,  0,  0,  0,  0,  0,  0,  0,  0,\n",
       "        0,  0,  0,  0,  0,  0,  0,  0,  0,  0,  0,  0,  0,  0,  0,  0,  0,\n",
       "        0,  0,  0,  0,  0,  0,  0,  0,  0,  0,  0,  0,  0,  0,  0,  0,  0,\n",
       "        0,  0,  0,  0,  0,  0,  0,  0,  0,  0,  0,  0,  0,  0,  0,  0,  0,\n",
       "        0,  0,  0,  0,  0,  0,  0,  0,  0,  0,  0,  0,  0,  0,  0,  0,  0,\n",
       "        0,  0,  0,  0,  0,  0,  0,  0,  0,  0,  0,  0,  0,  0,  0,  0,  0,\n",
       "        0,  0,  0,  0,  0,  0,  0,  0,  0,  0,  0,  0,  0,  0,  0,  0,  0,\n",
       "        0,  0,  0,  0,  0,  0,  0,  0,  0,  0,  0,  0,  0,  0,  0,  0,  0,\n",
       "        0,  0,  0,  0,  0,  0,  0,  0,  0,  0,  0,  0,  0,  0,  0,  0,  0,\n",
       "        0,  0,  0,  0,  0,  0,  0,  0,  0,  0,  0,  0,  0,  0,  0,  0,  0,\n",
       "        0,  0,  0,  0,  0,  0,  0,  0,  0,  0,  0,  0,  0,  0,  0,  0,  0,\n",
       "        0,  0,  0,  0,  0,  0,  0,  0,  0,  0,  0,  0,  0,  0,  0,  0,  0,\n",
       "        0,  0,  0,  0,  0,  0,  0,  0,  0,  0,  0,  0,  0,  0,  0,  0,  0,\n",
       "        0,  0,  0,  0,  0,  0,  0,  0,  0,  0,  0,  0,  0,  0,  0,  0,  0,\n",
       "        0,  0,  0,  0,  0,  0,  0,  0,  0,  0,  0,  0,  0,  0,  0,  0,  0,\n",
       "        0,  0,  0,  0,  0,  0,  0,  0,  0,  0,  0,  0,  0,  0,  0,  0,  0,\n",
       "        0,  0,  0,  0,  0,  0,  0,  0,  0,  0,  0,  0,  0,  0,  0,  0,  0,\n",
       "        0,  0,  0,  0,  0,  0,  0,  0,  0,  0,  0,  0,  0,  0,  0,  0,  0,\n",
       "        0,  0,  0,  0,  0,  0,  0,  0,  0,  0,  0,  0,  0,  0,  0,  0,  0,\n",
       "        0,  0,  0,  0,  0,  0,  0,  0,  0,  0,  0,  0,  0,  0,  0,  0,  0,\n",
       "        0,  0,  0,  0,  0,  0,  0,  0,  0,  0,  0,  0,  0,  0,  0,  0,  0,\n",
       "        0,  0,  0,  0,  0,  0,  0,  0,  0,  0,  0,  0,  0,  0,  0,  0,  0,\n",
       "        0,  0,  0,  0,  0,  0,  0,  0,  0,  0,  0,  0,  0,  0,  0,  0,  0,\n",
       "        1,  1,  1,  1,  1, -1, -1, -1, -1,  1,  1, -1, -1, -1,  1,  1, -1,\n",
       "        1, -1, -1,  1,  1,  1,  1,  1,  1,  1, -1, -1,  1,  1,  1,  1,  1,\n",
       "       -1, -1, -1,  1,  1,  1,  1, -1,  1,  1,  1,  1,  1,  1],\n",
       "      dtype=int64)"
      ]
     },
     "execution_count": 157,
     "metadata": {},
     "output_type": "execute_result"
    }
   ],
   "source": [
    "db_labels"
   ]
  },
  {
   "cell_type": "markdown",
   "id": "5092dcda",
   "metadata": {},
   "source": [
    "- most of the elements are 0, indicating that most of the data points are predicted to belong to the same cluster. However, there are also some elements with a value of -1, which typically means that the corresponding data point is considered an outlier and does not belong to any cluster."
   ]
  },
  {
   "cell_type": "markdown",
   "id": "57b71468",
   "metadata": {},
   "source": [
    "##### evaluate the DBSCAN clustering performance\n"
   ]
  },
  {
   "cell_type": "code",
   "execution_count": 158,
   "id": "943d87bf",
   "metadata": {},
   "outputs": [
    {
     "name": "stdout",
     "output_type": "stream",
     "text": [
      "The silhouette score of the DBSCAN clustering is: 0.48\n"
     ]
    }
   ],
   "source": [
    "# evaluate the DBSCAN clustering performance\n",
    "from sklearn.metrics import silhouette_score\n",
    "\n",
    "silhouette_avg = silhouette_score(X_std, db_labels)\n",
    "print(f\"The silhouette score of the DBSCAN clustering is: {silhouette_avg:.2f}\")"
   ]
  },
  {
   "cell_type": "markdown",
   "id": "f388f030",
   "metadata": {},
   "source": [
    "- A score of 0.48 indicates that the clusters are somewhat well-separated, but there may be some overlap between them."
   ]
  },
  {
   "cell_type": "markdown",
   "id": "915f4dfb",
   "metadata": {},
   "source": [
    "##### Visualize the clusters"
   ]
  },
  {
   "cell_type": "code",
   "execution_count": 159,
   "id": "a3051779",
   "metadata": {},
   "outputs": [
    {
     "data": {
      "image/png": "[encoded data removed]",
      "text/plain": [
       "<Figure size 432x288 with 1 Axes>"
      ]
     },
     "metadata": {
      "needs_background": "light"
     },
     "output_type": "display_data"
    }
   ],
   "source": [
    "import matplotlib.pyplot as plt\n",
    "\n",
    "plt.scatter(X_std[:, 0], X_std[:, 1], c=db_labels, cmap='viridis')\n",
    "plt.title('DBSCAN Clustering')\n",
    "plt.xlabel('Feature 1')\n",
    "plt.ylabel('Feature 2')\n",
    "plt.show()"
   ]
  },
  {
   "cell_type": "code",
   "execution_count": 160,
   "id": "a7ae6c0d",
   "metadata": {},
   "outputs": [
    {
     "data": {
      "image/png": "[encoded data removed]",
      "text/plain": [
       "<Figure size 1152x432 with 7 Axes>"
      ]
     },
     "metadata": {
      "needs_background": "light"
     },
     "output_type": "display_data"
    }
   ],
   "source": [
    "fig, ax = plt.subplots(1, 7, figsize=(16, 6))\n",
    "fig.suptitle(\"Group of customers\")\n",
    "\n",
    "count = 0\n",
    "\n",
    "for i in range(len(num_col)):\n",
    "    sns.boxplot(ax=ax[i], x=db_labels, y=X[num_col[count]])\n",
    "    count += 1\n",
    "\n",
    "fig.tight_layout()"
   ]
  },
  {
   "cell_type": "markdown",
   "id": "8b93ea92",
   "metadata": {},
   "source": [
    "- customers in the firt cluster have high SI number, high average credit limit, high total credit cards, low bank visits, high online visits and low number of calls made. from the DB labels results they are considered as the outliers\n",
    "- customers on the second group are the majority class and they have somewhat high SI number, low average credit limit, an average number of total credit cards, high bank visits , low online visits , somewhat low number of calls made\n",
    "- customers on the third group have extremely high SI numbers, high average credit limit, high total credit cards, low bank vists,high online visits and low number of calls made"
   ]
  },
  {
   "cell_type": "markdown",
   "id": "cc860482",
   "metadata": {},
   "source": []
  },
  {
   "cell_type": "markdown",
   "id": "13ea3546",
   "metadata": {},
   "source": [
    "## Recommendation\n",
    "\n",
    "\n",
    "Using the KMeans clustering visualization results, for the customers in the blue cluster (high SI number, low average credit limit, high total bank visits, low total online visits), the bank may want to focus on increasing the number of online visits and providing more online services to improve customer engagement. Since these customers have high SI numbers, they are likely to be loyal to the bank, and providing them with better online services could help retain their loyalty and improve.\n",
    "\n",
    "For the customers in the yellow cluster (low SI number, low average credit limit, low total credit cards, low total bank visits, high total calls made), the credit card service provider may want to focus on increasing the number of credit cards held by the customers to improve their creditworthiness. This could be achieved through targeted marketing campaigns or by providing incentives to encourage customers to apply for additional credit cards. Additionally, the bank may want to provide more customer service options, such as online chat, to reduce the number of calls made by these customers.\n",
    "\n",
    "For the customers in the green cluster (extremely high SI number, low average credit limit, high total credit cards, low total bank visits, high total online visits, and low number of calls made), the bank may want to focus on providing more online services and personalized  offerings. These customers have high SI numbers, indicating a strong relationship with the bank, and high total online visits, indicating a preference for online services. The bank could use this information to develop personalized product offerings and marketing campaigns that cater to the specific needs and preferences of these customers. Additionally, the bank may want to consider offering incentives to encourage these customers to increase their visits to the bank."
   ]
  },
  {
   "cell_type": "code",
   "execution_count": null,
   "id": "46d305aa",
   "metadata": {},
   "outputs": [],
   "source": []
  },
  {
   "cell_type": "code",
   "execution_count": null,
   "id": "38e1ff77",
   "metadata": {},
   "outputs": [],
   "source": []
  }
 ],
 "metadata": {
  "kernelspec": {
   "display_name": "Python 3 (ipykernel)",
   "language": "python",
   "name": "python3"
  },
  "language_info": {
   "codemirror_mode": {
    "name": "ipython",
    "version": 3
   },
   "file_extension": ".py",
   "mimetype": "text/x-python",
   "name": "python",
   "nbconvert_exporter": "python",
   "pygments_lexer": "ipython3",
   "version": "3.9.12"
  }
 },
 "nbformat": 4,
 "nbformat_minor": 5
}
